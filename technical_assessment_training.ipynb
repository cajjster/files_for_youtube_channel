{
 "cells": [
  {
   "cell_type": "markdown",
   "id": "41e95f73",
   "metadata": {},
   "source": [
    "<img align=\"center\" src=\"https://iili.io/3wI8gI.png\" style=\"height:90px\" style=\"width:30px\"/>"
   ]
  },
  {
   "cell_type": "markdown",
   "id": "81614671",
   "metadata": {},
   "source": [
    "# Exercises to Prepare for Technical Interview\n",
    "\n",
    "You have received this notebook to get some practice with python and to prepare for the technical interview. In order to maximize your chances of being accepted to the bootcamp, we recommend that you codealong with the youtube lesson, which means that you actually type out the code and imitate the teacher. Once you've checked that of the list, you are ready to practice on your own.\n",
    "\n",
    "By taking your time to solve the questions in this notebook, you should be ready to take on the interview. If you study for 3-5 hours in total (both video and this notebook), you should not have anything to worry about.\n",
    "\n",
    "Good Luck with the exercises!"
   ]
  },
  {
   "cell_type": "markdown",
   "id": "732a29f5",
   "metadata": {},
   "source": [
    "## Question 1 – Variables\n",
    "\n",
    "The formula to convert temperature from Fahrenheit (°F) to Celsius (°C) is:\n",
    "\n",
    "`(°F - 32) x 5/9 = °C`\n",
    "\n",
    "In this formula, you first subtract 32 from the temperature in Fahrenheit, and then multiply the result by 5/9 to get the temperature in Celsius.\n",
    "\n",
    "Use variables in python to calculate how much "
   ]
  },
  {
   "cell_type": "code",
   "execution_count": 22,
   "id": "af446edf",
   "metadata": {},
   "outputs": [],
   "source": [
    "farenheit_temp = 50\n",
    "\n",
    "converter = None # input formula here"
   ]
  },
  {
   "cell_type": "markdown",
   "id": "cc71c4df",
   "metadata": {},
   "source": [
    "## Question 2 – Lists\n",
    "\n",
    "Use indexing and list concatenation to extract all the ingredients that you would include into a variable that you name `eggs_benedict`."
   ]
  },
  {
   "cell_type": "code",
   "execution_count": 28,
   "id": "28ff2d0d",
   "metadata": {},
   "outputs": [],
   "source": [
    "pantry = [\"English muffins\", \"White vinegar\", \"Salt\", \"Black pepper\", \n",
    "          \"Asparagus\", \"Poached eggs\", \"Hollandaise sauce\", \"Butter\", \n",
    "          \"Lemon juice\",  \"Parsley\", \"Chives\", \"Tomatoes\", \n",
    "          \"Mushrooms\", \"Feta cheese\" , \"Canadian bacon\", \"Smoked salmon\"]\n"
   ]
  },
  {
   "cell_type": "code",
   "execution_count": null,
   "id": "8e7e370b",
   "metadata": {},
   "outputs": [],
   "source": [
    "# answer here"
   ]
  },
  {
   "cell_type": "markdown",
   "id": "fb6a6ccb",
   "metadata": {},
   "source": [
    "## Question 3 – Conditional Logic\n",
    "\n",
    "Write a Python program that prompts the user for their favorite animal and then prints a message to the screen based on their answer. If the user's favorite animal is a cat or a dog, the program should print \"I love cats and dogs too!\" If the user's favorite animal is a bird or a fish, the program should print \"I'm more of a cat and dog person.\" For all other animals, the program should print \"I'm not sure I've heard of that animal before.\""
   ]
  },
  {
   "cell_type": "code",
   "execution_count": 23,
   "id": "690d3dbb",
   "metadata": {},
   "outputs": [
    {
     "name": "stdout",
     "output_type": "stream",
     "text": [
      "What is your favorite animal? cat\n",
      "I love cats and dogs too!\n"
     ]
    }
   ],
   "source": [
    "# Prompt the user for their favorite animal\n",
    "\n",
    "# Use if statements to determine the program's response based on the user's input\n"
   ]
  },
  {
   "cell_type": "markdown",
   "id": "6c2e2f41",
   "metadata": {},
   "source": [
    "## Question 4 – Loops\n",
    "\n",
    "Loop over this list of ancient cities to find out how many of these cities that start with the letter `P`\n"
   ]
  },
  {
   "cell_type": "code",
   "execution_count": 12,
   "id": "3138dd2c",
   "metadata": {},
   "outputs": [],
   "source": [
    "ancient_cities = [\"Athens, Greece\", \"Rome, Italy\", \"Alexandria, Egypt\", \"Babylon, Iraq\", \"Carthage, Tunisia\", \n",
    "                  \"Corinth, Greece\", \"Damascus, Syria\", \"Ephesus, Turkey\", \"Jerusalem, Israel\", \"Knossos, Greece\", \n",
    "                  \"Memphis, Egypt\", \"Mycenae, Greece\", \"Nineveh, Iraq\", \"Palmyra, Syria\", \"Pergamum, Turkey\", \n",
    "                  \"Petra, Jordan\", \"Persepolis, Iran\", \"Pompeii, Italy\", \"Thebes, Egypt\", \"Troy, Turkey\"]\n",
    "\n"
   ]
  },
  {
   "cell_type": "code",
   "execution_count": 15,
   "id": "716977b7",
   "metadata": {},
   "outputs": [
    {
     "data": {
      "text/plain": [
       "['Palmyra, Syria',\n",
       " 'Pergamum, Turkey',\n",
       " 'Petra, Jordan',\n",
       " 'Persepolis, Iran',\n",
       " 'Pompeii, Italy']"
      ]
     },
     "execution_count": 15,
     "metadata": {},
     "output_type": "execute_result"
    }
   ],
   "source": []
  },
  {
   "cell_type": "markdown",
   "id": "b72af67b",
   "metadata": {},
   "source": [
    "## Question – 5 Loops\n",
    "\n",
    "Below you have been given a list of tuples. Each tuple contains two elements; a string with the car model name and an integer representing the first year that model was produced.\n",
    "\n",
    "Your task is to iterate over this sequence and create a new list with all the car model names that were produced between 1960-1969.\n",
    "\n",
    "To solve this question you are going to have to use something that is called tuple unpacking.\n",
    "\n",
    "```python\n",
    "for i,j in classic_cars:\n",
    "    print(i, j)\n",
    "```\n",
    "\n",
    "If you play around with this syntax you can use 'i' and 'j' separately. "
   ]
  },
  {
   "cell_type": "code",
   "execution_count": 10,
   "id": "c3b661f9",
   "metadata": {},
   "outputs": [],
   "source": [
    "classic_cars = [\n",
    "    (\"Ford Mustang\", 1964),\n",
    "    (\"Chevrolet Corvette\", 1953),\n",
    "    (\"Jaguar E-Type\", 1961),\n",
    "    (\"Porsche 911\", 1963),\n",
    "    (\"Chevrolet Camaro\", 1966),\n",
    "    (\"Ford GT40\", 1964),\n",
    "    (\"Mercedes-Benz 300SL\", 1954),\n",
    "    (\"Ferrari 250 GTO\", 1962),\n",
    "    (\"Alfa Romeo Spider\", 1966),\n",
    "    (\"Aston Martin DB5\", 1963),\n",
    "    (\"BMW 2002\", 1968),\n",
    "    (\"Datsun 240Z\", 1969),\n",
    "    (\"Pontiac GTO\", 1964),\n",
    "    (\"Volkswagen Beetle\", 1938),\n",
    "    (\"Rolls-Royce Silver Shadow\", 1965),\n",
    "    (\"MGB\", 1962),\n",
    "    (\"Triumph TR6\", 1968),\n",
    "    (\"Maserati Ghibli\", 1967),\n",
    "    (\"Audi Quattro\", 1980),\n",
    "    (\"BMW 3.0 CSL\", 1971),\n",
    "    (\"Lancia Stratos\", 1972),\n",
    "    (\"DeLorean DMC-12\", 1981),\n",
    "    (\"Dodge Charger\", 1966),\n",
    "    (\"Buick Riviera\", 1963),\n",
    "    (\"Lincoln Continental\", 1939)\n",
    "]\n"
   ]
  },
  {
   "cell_type": "code",
   "execution_count": null,
   "id": "6c862aea",
   "metadata": {
    "scrolled": false
   },
   "outputs": [],
   "source": []
  },
  {
   "cell_type": "markdown",
   "id": "516da718",
   "metadata": {},
   "source": [
    "## Question 6 – Loops\n",
    "\n",
    "Below you have been given 5 lists with the daily sales of employees. Using these lists, your taks is to\n",
    "use python to find out who:\n",
    "\n",
    "1) Who had the highest sales on one day\n",
    "\n",
    "2) Who had the best week in total\n",
    "\n",
    "3) Average of all sales\n",
    "\n"
   ]
  },
  {
   "cell_type": "code",
   "execution_count": 1,
   "id": "55fed281",
   "metadata": {},
   "outputs": [],
   "source": [
    "lars_sales = [3200, 4100, 4800, 3500, 3800, 4200, 3900]\n",
    "\n",
    "elin_sales = [2800, 3900, 4200, 3100, 3500, 3700, 4000]\n",
    "\n",
    "ingrid_sales = [3500, 4400, 5200, 3800, 4200, 4700, 4300]\n",
    "\n",
    "sven_sales = [2900, 3600, 4000, 3200, 3300, 3900, 3800]\n",
    "\n",
    "edvin_sales = [3100, 3800, 4400, 3300, 3600, 4000, 3700]\n",
    "\n",
    "emp_sales = [(\"Lars\", lars_sales), (\"Elin\", elin_sales), (\"Ingrid\", ingrid_sales),(\"Sven\", sven_sales), (\"Edvin\", edvin_sales)]\n"
   ]
  },
  {
   "cell_type": "code",
   "execution_count": null,
   "id": "696459c7",
   "metadata": {},
   "outputs": [],
   "source": [
    "# answers here"
   ]
  },
  {
   "cell_type": "markdown",
   "id": "0dac483d",
   "metadata": {},
   "source": [
    "## Question 7 – Call a function\n",
    "\n",
    "Below you will find a function that has been defined for you. It converts inches to centimeter. Run the cell with defined function. Then, in the cell below, call the function two times and print the output. What is 8 inches in centimeters and what is 32 inches in centimeters?\n",
    "\n"
   ]
  },
  {
   "cell_type": "code",
   "execution_count": null,
   "id": "d32f8395",
   "metadata": {},
   "outputs": [],
   "source": []
  },
  {
   "cell_type": "code",
   "execution_count": 21,
   "id": "9a377cb6",
   "metadata": {},
   "outputs": [
    {
     "name": "stdout",
     "output_type": "stream",
     "text": [
      "20.32\n",
      "81.28\n"
     ]
    }
   ],
   "source": [
    "print(inches_to_cm(8))\n",
    "print(inches_to_cm(32))"
   ]
  },
  {
   "cell_type": "markdown",
   "id": "6264faa7",
   "metadata": {},
   "source": [
    "## Question 8 – Define a function, then call it!\n",
    "\n",
    "Now you are going to create your own user defined function. The function is going to calculate click-through-rate or ctr from a given marketing campaign. \n",
    "\n",
    "This function should take to arguments; `clicks` which is the number of clicks on a marketing campaign, and `impressions` which is the number of times the campaign was displayed to potential customers. The function uses the formula for CTR to calculate the percentage of impressions that resulted in a click on the campaign.\n",
    "\n",
    "When you have defined the function, test it out by calling it in the cell below."
   ]
  },
  {
   "cell_type": "code",
   "execution_count": null,
   "id": "b9f61f3e",
   "metadata": {},
   "outputs": [],
   "source": [
    "\n",
    "\n"
   ]
  },
  {
   "cell_type": "code",
   "execution_count": 27,
   "id": "677f3be2",
   "metadata": {},
   "outputs": [
    {
     "data": {
      "text/plain": [
       "20.0"
      ]
     },
     "execution_count": 27,
     "metadata": {},
     "output_type": "execute_result"
    }
   ],
   "source": [
    "calculate_ctr(100, 500)"
   ]
  }
 ],
 "metadata": {
  "kernelspec": {
   "display_name": "Python 3 (ipykernel)",
   "language": "python",
   "name": "python3"
  },
  "language_info": {
   "codemirror_mode": {
    "name": "ipython",
    "version": 3
   },
   "file_extension": ".py",
   "mimetype": "text/x-python",
   "name": "python",
   "nbconvert_exporter": "python",
   "pygments_lexer": "ipython3",
   "version": "3.11.5"
  },
  "toc": {
   "base_numbering": 1,
   "nav_menu": {},
   "number_sections": false,
   "sideBar": true,
   "skip_h1_title": false,
   "title_cell": "Table of Contents",
   "title_sidebar": "Contents",
   "toc_cell": false,
   "toc_position": {},
   "toc_section_display": true,
   "toc_window_display": false
  },
  "varInspector": {
   "cols": {
    "lenName": 16,
    "lenType": 16,
    "lenVar": 40
   },
   "kernels_config": {
    "python": {
     "delete_cmd_postfix": "",
     "delete_cmd_prefix": "del ",
     "library": "var_list.py",
     "varRefreshCmd": "print(var_dic_list())"
    },
    "r": {
     "delete_cmd_postfix": ") ",
     "delete_cmd_prefix": "rm(",
     "library": "var_list.r",
     "varRefreshCmd": "cat(var_dic_list()) "
    }
   },
   "types_to_exclude": [
    "module",
    "function",
    "builtin_function_or_method",
    "instance",
    "_Feature"
   ],
   "window_display": false
  }
 },
 "nbformat": 4,
 "nbformat_minor": 5
}
